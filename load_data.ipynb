{
 "cells": [
  {
   "cell_type": "code",
   "execution_count": null,
   "metadata": {},
   "outputs": [],
   "source": []
  },
  {
   "cell_type": "code",
   "execution_count": null,
   "metadata": {
    "vscode": {
     "languageId": "plaintext"
    }
   },
   "outputs": [],
   "source": [
    "# 导入所需库\n",
    "import pandas as pd\n",
    "\n",
    "# 加载 reduced 数据集（请根据实际路径修改）\n",
    "df = pd.read_csv(\"reduced_dataset-release.csv\")\n",
    "\n",
    "# 显示前几行数据\n",
    "print(df.head())\n",
    "\n",
    "# 查看数据的形状\n",
    "print(f\"总行数: {df.shape[0]}, 总列数: {df.shape[1]}\")\n",
    "\n",
    "# 看有哪些列\n",
    "print(\"列名：\", df.columns.tolist())\n",
    "\n",
    "# 检查是否有缺失值\n",
    "print(df.isnull().sum())\n"
   ]
  }
 ],
 "metadata": {
  "language_info": {
   "name": "python"
  }
 },
 "nbformat": 4,
 "nbformat_minor": 2
}
